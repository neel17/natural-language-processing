{
  "nbformat": 4,
  "nbformat_minor": 0,
  "metadata": {
    "colab": {
      "name": "Multilabel Classification for Tags of Stackoverflow.ipynb",
      "version": "0.3.2",
      "provenance": [],
      "include_colab_link": true
    },
    "kernelspec": {
      "name": "python3",
      "display_name": "Python 3"
    }
  },
  "cells": [
    {
      "cell_type": "markdown",
      "metadata": {
        "id": "view-in-github",
        "colab_type": "text"
      },
      "source": [
        "<a href=\"https://colab.research.google.com/github/neel17/natural-language-processing/blob/master/Multilabel_Classification_for_Tags_of_Stackoverflow.ipynb\" target=\"_parent\"><img src=\"https://colab.research.google.com/assets/colab-badge.svg\" alt=\"Open In Colab\"/></a>"
      ]
    },
    {
      "metadata": {
        "id": "XTfJQuS-W5nX",
        "colab_type": "code",
        "colab": {}
      },
      "cell_type": "code",
      "source": [
        "import pandas as pd\n",
        "import io\n",
        "import requests\n",
        "\n",
        "\n",
        "import logging\n",
        "import numpy as np\n",
        "from numpy import random\n",
        "import gensim\n",
        "import nltk\n",
        "from sklearn.model_selection import train_test_split\n",
        "from sklearn.feature_extraction.text import CountVectorizer, TfidfVectorizer\n",
        "from sklearn.metrics import accuracy_score, confusion_matrix\n",
        "import matplotlib.pyplot as plt\n",
        "from nltk.corpus import stopwords\n",
        "import re\n",
        "from bs4 import BeautifulSoup\n",
        "\n",
        "%matplotlib inline\n"
      ],
      "execution_count": 0,
      "outputs": []
    },
    {
      "metadata": {
        "id": "4XxW27pZXi1C",
        "colab_type": "code",
        "colab": {}
      },
      "cell_type": "code",
      "source": [
        "# Reading data \n",
        "url=\"https://storage.googleapis.com/tensorflow-workshop-examples/stack-overflow-data.csv\"\n",
        "s=requests.get(url).content\n",
        "\n",
        "data =pd.read_csv(io.StringIO(s.decode('utf-8')))"
      ],
      "execution_count": 0,
      "outputs": []
    },
    {
      "metadata": {
        "id": "92RdXuFVXlHn",
        "colab_type": "code",
        "colab": {
          "base_uri": "https://localhost:8080/",
          "height": 106
        },
        "outputId": "3d54c01e-b4d9-4ff9-fd88-d95366ae2260"
      },
      "cell_type": "code",
      "source": [
        "data.head(2)"
      ],
      "execution_count": 4,
      "outputs": [
        {
          "output_type": "execute_result",
          "data": {
            "text/html": [
              "<div>\n",
              "<style scoped>\n",
              "    .dataframe tbody tr th:only-of-type {\n",
              "        vertical-align: middle;\n",
              "    }\n",
              "\n",
              "    .dataframe tbody tr th {\n",
              "        vertical-align: top;\n",
              "    }\n",
              "\n",
              "    .dataframe thead th {\n",
              "        text-align: right;\n",
              "    }\n",
              "</style>\n",
              "<table border=\"1\" class=\"dataframe\">\n",
              "  <thead>\n",
              "    <tr style=\"text-align: right;\">\n",
              "      <th></th>\n",
              "      <th>post</th>\n",
              "      <th>tags</th>\n",
              "    </tr>\n",
              "  </thead>\n",
              "  <tbody>\n",
              "    <tr>\n",
              "      <th>0</th>\n",
              "      <td>what is causing this behavior  in our c# datet...</td>\n",
              "      <td>c#</td>\n",
              "    </tr>\n",
              "    <tr>\n",
              "      <th>1</th>\n",
              "      <td>have dynamic html load as if it was in an ifra...</td>\n",
              "      <td>asp.net</td>\n",
              "    </tr>\n",
              "  </tbody>\n",
              "</table>\n",
              "</div>"
            ],
            "text/plain": [
              "                                                post     tags\n",
              "0  what is causing this behavior  in our c# datet...       c#\n",
              "1  have dynamic html load as if it was in an ifra...  asp.net"
            ]
          },
          "metadata": {
            "tags": []
          },
          "execution_count": 4
        }
      ]
    },
    {
      "metadata": {
        "id": "imXyG9EmX2oG",
        "colab_type": "code",
        "colab": {
          "base_uri": "https://localhost:8080/",
          "height": 134
        },
        "outputId": "3f2b54f8-9eb1-4645-b584-63e83a706cf7"
      },
      "cell_type": "code",
      "source": [
        "data.info()"
      ],
      "execution_count": 5,
      "outputs": [
        {
          "output_type": "stream",
          "text": [
            "<class 'pandas.core.frame.DataFrame'>\n",
            "RangeIndex: 40000 entries, 0 to 39999\n",
            "Data columns (total 2 columns):\n",
            "post    40000 non-null object\n",
            "tags    40000 non-null object\n",
            "dtypes: object(2)\n",
            "memory usage: 625.1+ KB\n"
          ],
          "name": "stdout"
        }
      ]
    },
    {
      "metadata": {
        "id": "GpIG4E9nZJdj",
        "colab_type": "code",
        "colab": {
          "base_uri": "https://localhost:8080/",
          "height": 67
        },
        "outputId": "383e2625-3a34-462d-da8d-b6da1b3850e7"
      },
      "cell_type": "code",
      "source": [
        "data.isnull().sum()"
      ],
      "execution_count": 6,
      "outputs": [
        {
          "output_type": "execute_result",
          "data": {
            "text/plain": [
              "post    0\n",
              "tags    0\n",
              "dtype: int64"
            ]
          },
          "metadata": {
            "tags": []
          },
          "execution_count": 6
        }
      ]
    },
    {
      "metadata": {
        "id": "msuoVkUCY_tP",
        "colab_type": "code",
        "colab": {
          "base_uri": "https://localhost:8080/",
          "height": 34
        },
        "outputId": "287736d3-28eb-4049-fc4b-de0db9100e0b"
      },
      "cell_type": "code",
      "source": [
        "# Checking words in the data\n",
        "print(data['post'].apply(lambda x: len(x.split(' '))).sum())"
      ],
      "execution_count": 7,
      "outputs": [
        {
          "output_type": "stream",
          "text": [
            "10286120\n"
          ],
          "name": "stdout"
        }
      ]
    },
    {
      "metadata": {
        "id": "oddgXwQwYYbY",
        "colab_type": "code",
        "colab": {
          "base_uri": "https://localhost:8080/",
          "height": 328
        },
        "outputId": "41f8f142-aeca-4a00-94bc-5235df6a78c1"
      },
      "cell_type": "code",
      "source": [
        "data['tags'].value_counts().plot(kind='bar')"
      ],
      "execution_count": 8,
      "outputs": [
        {
          "output_type": "execute_result",
          "data": {
            "text/plain": [
              "<matplotlib.axes._subplots.AxesSubplot at 0x7f5617d913c8>"
            ]
          },
          "metadata": {
            "tags": []
          },
          "execution_count": 8
        },
        {
          "output_type": "display_data",
          "data": {
            "image/png": "[encoded data removed]",
            "text/plain": [
              "<matplotlib.figure.Figure at 0x7f5617d80a20>"
            ]
          },
          "metadata": {
            "tags": []
          }
        }
      ]
    },
    {
      "metadata": {
        "id": "jFQQlscqZgLm",
        "colab_type": "code",
        "colab": {}
      },
      "cell_type": "code",
      "source": [
        "df = data[pd.notnull(data['tags'])]"
      ],
      "execution_count": 0,
      "outputs": []
    },
    {
      "metadata": {
        "id": "kwb7GLHEZgGO",
        "colab_type": "code",
        "colab": {
          "base_uri": "https://localhost:8080/",
          "height": 134
        },
        "outputId": "56ed8b17-1e9a-4ce1-8b7f-e26a6a5eea9a"
      },
      "cell_type": "code",
      "source": [
        "df.info()"
      ],
      "execution_count": 10,
      "outputs": [
        {
          "output_type": "stream",
          "text": [
            "<class 'pandas.core.frame.DataFrame'>\n",
            "Int64Index: 40000 entries, 0 to 39999\n",
            "Data columns (total 2 columns):\n",
            "post    40000 non-null object\n",
            "tags    40000 non-null object\n",
            "dtypes: object(2)\n",
            "memory usage: 937.5+ KB\n"
          ],
          "name": "stdout"
        }
      ]
    },
    {
      "metadata": {
        "id": "8SnVbNkcZgE6",
        "colab_type": "code",
        "colab": {
          "base_uri": "https://localhost:8080/",
          "height": 34
        },
        "outputId": "3010f4d8-8f61-491d-e7c3-0fb5948e9de8"
      },
      "cell_type": "code",
      "source": [
        "df['post'].apply(lambda x: len(x.split(' '))).sum()"
      ],
      "execution_count": 11,
      "outputs": [
        {
          "output_type": "execute_result",
          "data": {
            "text/plain": [
              "10286120"
            ]
          },
          "metadata": {
            "tags": []
          },
          "execution_count": 11
        }
      ]
    },
    {
      "metadata": {
        "id": "E9SDahVXZgAV",
        "colab_type": "code",
        "colab": {
          "base_uri": "https://localhost:8080/",
          "height": 67
        },
        "outputId": "16037c23-05a2-40a2-8547-18ff55c83f24"
      },
      "cell_type": "code",
      "source": [
        "df['post'][0:2]"
      ],
      "execution_count": 12,
      "outputs": [
        {
          "output_type": "execute_result",
          "data": {
            "text/plain": [
              "0    what is causing this behavior  in our c# datet...\n",
              "1    have dynamic html load as if it was in an ifra...\n",
              "Name: post, dtype: object"
            ]
          },
          "metadata": {
            "tags": []
          },
          "execution_count": 12
        }
      ]
    },
    {
      "metadata": {
        "id": "-HHH5TPFhHhZ",
        "colab_type": "code",
        "colab": {}
      },
      "cell_type": "code",
      "source": [
        "# Unique list of tags\n",
        "tags_list = df['tags'].unique()"
      ],
      "execution_count": 0,
      "outputs": []
    },
    {
      "metadata": {
        "id": "4CTFtHFSZf7Q",
        "colab_type": "code",
        "colab": {
          "base_uri": "https://localhost:8080/",
          "height": 67
        },
        "outputId": "b5ab40c5-93ff-44d9-9626-7faa890a67e3"
      },
      "cell_type": "code",
      "source": [
        "# for importing nltk stopwords\n",
        "nltk.download('stopwords')\n"
      ],
      "execution_count": 14,
      "outputs": [
        {
          "output_type": "stream",
          "text": [
            "[nltk_data] Downloading package stopwords to /root/nltk_data...\n",
            "[nltk_data]   Unzipping corpora/stopwords.zip.\n"
          ],
          "name": "stdout"
        },
        {
          "output_type": "execute_result",
          "data": {
            "text/plain": [
              "True"
            ]
          },
          "metadata": {
            "tags": []
          },
          "execution_count": 14
        }
      ]
    },
    {
      "metadata": {
        "id": "725JJ1l_bALJ",
        "colab_type": "code",
        "colab": {}
      },
      "cell_type": "code",
      "source": [
        "# importing stopwords \n",
        "import nltk\n",
        "from nltk.corpus import stopwords"
      ],
      "execution_count": 0,
      "outputs": []
    },
    {
      "metadata": {
        "id": "VkbCeW6pZf5E",
        "colab_type": "code",
        "colab": {}
      },
      "cell_type": "code",
      "source": [
        "REPLACE_BY_SPACE_RE = re.compile('[/(){}\\[\\]\\|@,;]')\n",
        "BAD_SYMBOLS_RE = re.compile('[^0-9a-z #+_]')\n",
        "STOPWORDS = set(stopwords.words('english'))\n",
        "\n",
        "def text_prepare(text):\n",
        "    \"\"\"\n",
        "        text: a string\n",
        "        \n",
        "        return: modified initial string\n",
        "    \"\"\"\n",
        "    text = text.lower() # lowercase text\n",
        "    text = REPLACE_BY_SPACE_RE.sub(' ',text) # replace REPLACE_BY_SPACE_RE symbols by space in text\n",
        "    text = BAD_SYMBOLS_RE.sub('',text) # delete symbols which are in BAD_SYMBOLS_RE from text\n",
        "    text = ' '.join([i for i in text.split() if i not in STOPWORDS]) # delete stopwords from text\n",
        "    return text"
      ],
      "execution_count": 0,
      "outputs": []
    },
    {
      "metadata": {
        "id": "IEw-t46XZf0R",
        "colab_type": "code",
        "colab": {}
      },
      "cell_type": "code",
      "source": [
        "df['post'] = df['post'].apply(text_prepare)"
      ],
      "execution_count": 0,
      "outputs": []
    },
    {
      "metadata": {
        "id": "X4T3Wm9FZfzS",
        "colab_type": "code",
        "colab": {
          "base_uri": "https://localhost:8080/",
          "height": 34
        },
        "outputId": "ebc719ee-af91-415a-fde3-08db38fafedb"
      },
      "cell_type": "code",
      "source": [
        "df['post'].apply(lambda x:len(x.split(' '))).sum()"
      ],
      "execution_count": 18,
      "outputs": [
        {
          "output_type": "execute_result",
          "data": {
            "text/plain": [
              "3907997"
            ]
          },
          "metadata": {
            "tags": []
          },
          "execution_count": 18
        }
      ]
    },
    {
      "metadata": {
        "id": "yaLwvJ6KcF2p",
        "colab_type": "code",
        "colab": {}
      },
      "cell_type": "code",
      "source": [
        "# Converting text into features using COuntVectorizer and tfidf\n",
        "\n",
        "X = df['post']\n",
        "y = df['tags']\n",
        "\n",
        "X_train,X_test,y_train,y_test = train_test_split(X,y, test_size = 0.3, random_state = 42)"
      ],
      "execution_count": 0,
      "outputs": []
    },
    {
      "metadata": {
        "id": "b3skuYsmco_c",
        "colab_type": "text"
      },
      "cell_type": "markdown",
      "source": [
        "# Using Naive Bayes Classifier for Multinomial Models"
      ]
    },
    {
      "metadata": {
        "id": "1ASz_1U0cfY5",
        "colab_type": "code",
        "colab": {}
      },
      "cell_type": "code",
      "source": [
        "# In order to make vectorizer --> transform --> classifier using Pipeline from scikit-learn\n",
        "\n",
        "from sklearn.naive_bayes import MultinomialNB\n",
        "from sklearn.pipeline import Pipeline\n",
        "from sklearn.feature_extraction.text import TfidfTransformer\n",
        "from sklearn.feature_extraction.text import CountVectorizer"
      ],
      "execution_count": 0,
      "outputs": []
    },
    {
      "metadata": {
        "id": "H9iDSFYodWew",
        "colab_type": "code",
        "colab": {}
      },
      "cell_type": "code",
      "source": [
        "naive_bayes_pipeline = Pipeline([('vect', CountVectorizer()),\\\n",
        "                                 ('tfidf',TfidfTransformer()),#min_df = 5, max_df = 0.9, ngram_range = (1,2), token_pattern = '(\\S+)')),\\\n",
        "                                  ('clf', MultinomialNB())\\\n",
        "                                ])\n",
        "                                 "
      ],
      "execution_count": 0,
      "outputs": []
    },
    {
      "metadata": {
        "id": "NoEE--yyfPye",
        "colab_type": "code",
        "colab": {
          "base_uri": "https://localhost:8080/",
          "height": 118
        },
        "outputId": "2122fa36-45be-4356-85a3-1ba11d65feb0"
      },
      "cell_type": "code",
      "source": [
        "# Trained the model - Naive Bayes\n",
        "naive_bayes_pipeline.fit(X_train,y_train)"
      ],
      "execution_count": 22,
      "outputs": [
        {
          "output_type": "execute_result",
          "data": {
            "text/plain": [
              "Pipeline(memory=None,\n",
              "     steps=[('vect', CountVectorizer(analyzer='word', binary=False, decode_error='strict',\n",
              "        dtype=<class 'numpy.int64'>, encoding='utf-8', input='content',\n",
              "        lowercase=True, max_df=1.0, max_features=None, min_df=1,\n",
              "        ngram_range=(1, 1), preprocessor=None, stop_words=None,\n",
              "        strip...inear_tf=False, use_idf=True)), ('clf', MultinomialNB(alpha=1.0, class_prior=None, fit_prior=True))])"
            ]
          },
          "metadata": {
            "tags": []
          },
          "execution_count": 22
        }
      ]
    },
    {
      "metadata": {
        "id": "k1rWk7HqgW2_",
        "colab_type": "code",
        "colab": {}
      },
      "cell_type": "code",
      "source": [
        "# Cheking the prediction, accuracy, and report\n",
        "\n",
        "from sklearn.metrics import classification_report\n",
        "\n",
        "y_pred = naive_bayes_pipeline.predict(X_test)"
      ],
      "execution_count": 0,
      "outputs": []
    },
    {
      "metadata": {
        "id": "Ak2-UsMLgoOn",
        "colab_type": "code",
        "colab": {
          "base_uri": "https://localhost:8080/",
          "height": 34
        },
        "outputId": "2bd8290d-fee5-4c8c-e82b-480fec6e9385"
      },
      "cell_type": "code",
      "source": [
        "print('accuracy %s' % accuracy_score(y_pred, y_test))"
      ],
      "execution_count": 24,
      "outputs": [
        {
          "output_type": "stream",
          "text": [
            "accuracy 0.7366666666666667\n"
          ],
          "name": "stdout"
        }
      ]
    },
    {
      "metadata": {
        "id": "XqybhPCtgzDp",
        "colab_type": "code",
        "colab": {
          "base_uri": "https://localhost:8080/",
          "height": 504
        },
        "outputId": "27e85b4a-d54d-4026-9763-74a524c07d27"
      },
      "cell_type": "code",
      "source": [
        "print('classification report \\n')\n",
        "print(classification_report(y_test, y_pred, target_names = tags_list))"
      ],
      "execution_count": 25,
      "outputs": [
        {
          "output_type": "stream",
          "text": [
            "classification report \n",
            "\n",
            "               precision    recall  f1-score   support\n",
            "\n",
            "           c#       0.63      0.64      0.63       613\n",
            "      asp.net       0.93      0.84      0.88       620\n",
            "  objective-c       0.87      0.92      0.89       587\n",
            "         .net       0.70      0.75      0.72       586\n",
            "       python       0.73      0.87      0.79       599\n",
            "    angularjs       0.69      0.52      0.59       589\n",
            "       iphone       0.79      0.76      0.77       594\n",
            "ruby-on-rails       0.69      0.89      0.78       610\n",
            "          ios       0.59      0.61      0.60       617\n",
            "            c       0.57      0.66      0.61       587\n",
            "          sql       0.72      0.48      0.58       611\n",
            "         java       0.80      0.79      0.79       594\n",
            "       jquery       0.86      0.56      0.67       619\n",
            "          css       0.64      0.84      0.73       574\n",
            "          c++       0.64      0.84      0.73       584\n",
            "          php       0.65      0.66      0.66       578\n",
            "      android       0.81      0.76      0.78       591\n",
            "        mysql       0.89      0.85      0.87       608\n",
            "   javascript       0.94      0.87      0.91       638\n",
            "         html       0.75      0.64      0.69       601\n",
            "\n",
            "    micro avg       0.74      0.74      0.74     12000\n",
            "    macro avg       0.74      0.74      0.73     12000\n",
            " weighted avg       0.75      0.74      0.73     12000\n",
            "\n"
          ],
          "name": "stdout"
        }
      ]
    },
    {
      "metadata": {
        "id": "sN5zHyephpzA",
        "colab_type": "code",
        "colab": {}
      },
      "cell_type": "code",
      "source": [
        "# Confusion Matrix\n",
        "from sklearn.metrics import confusion_matrix"
      ],
      "execution_count": 0,
      "outputs": []
    },
    {
      "metadata": {
        "id": "FwHR57uYhruu",
        "colab_type": "code",
        "colab": {
          "base_uri": "https://localhost:8080/",
          "height": 706
        },
        "outputId": "e14c6275-9a89-40c2-a563-4fb1582469d0"
      },
      "cell_type": "code",
      "source": [
        "print('confusion matrix \\n',confusion_matrix(y_test,y_pred, labels = tags_list))"
      ],
      "execution_count": 27,
      "outputs": [
        {
          "output_type": "stream",
          "text": [
            "confusion matrix \n",
            " [[305  28  13  63   8   4   1   3   1  21  11  48   9   5  30  10   5   6\n",
            "    5  13]\n",
            " [ 26 438   2  44   0   4   1   5   1   0   3   1  15   7   1   5   3   5\n",
            "    2  23]\n",
            " [  4   3 382   9   3   0  36   1  85  23   3   6   1   6   8   0   2   2\n",
            "    0   4]\n",
            " [ 72  66   4 390   6   4   3   2   4   8   8  11   0   2   8   3   4   6\n",
            "    4   8]\n",
            " [  1   4   4   4 514   4   1   1   0  17   9   6   4   5   4   9   1  11\n",
            "    1   8]\n",
            " [  0   3   1   4   1 541   0   1   2   0   1   0  11   6   0   2   1   0\n",
            "    3  10]\n",
            " [  2   5  81   7   2   2 293   3 159   1   5   2   6  12   1   8   8   4\n",
            "    3   7]\n",
            " [  1   5   3   2   1  11   3 557   1   1   4   0  13   3   1   3   1  11\n",
            "    0  17]\n",
            " [  0   3  79   7   4   1  60   4 386   4   0   3   3  13   3   0   7   4\n",
            "    2   4]\n",
            " [  1   0   2  12  11   0   0   0   2 521   0   7   0   1  35   3   1   1\n",
            "    0   2]\n",
            " [  2   6   0   6   0   0   0   2   0   0 383   1   1   1   1   1   0 195\n",
            "    0   2]\n",
            " [ 10   6   5  17   4   2   1   2   1  24   3 468   3   0  15  14   4   4\n",
            "    5   6]\n",
            " [  1   6   1   0   0  10   0   0   1   0   0   0 484  27   1   3   0   2\n",
            "   15  23]\n",
            " [  0   1   0   4   0   1   0   0   0   0   0   0  19 543   0   1   1   0\n",
            "    0  40]\n",
            " [  4   1   5  26   6   1   0   1   3  77   1  11   0   0 450   2   1   1\n",
            "    2   2]\n",
            " [  3   5   2   4   9   7   0   4   2   4   6   3  21   7   5 447   0  22\n",
            "    9  31]\n",
            " [  2   7   0   8   0   3   6   0  25   1   1  10   3  17   1   2 523   2\n",
            "    1   8]\n",
            " [  0   1   0   3   0   2   0   3   0   2  68   1   0   1   0   9   0 493\n",
            "    0   1]\n",
            " [  5  15   1   5   7  20   0   1   5  10   4   4 105  11   4  17   2   4\n",
            "  344  55]\n",
            " [  0  20   0   3   0   8   0   0   1   3   1   3  56 122   1  13   1   2\n",
            "    5 378]]\n"
          ],
          "name": "stdout"
        }
      ]
    },
    {
      "metadata": {
        "id": "zTghSs_7jqM0",
        "colab_type": "text"
      },
      "cell_type": "markdown",
      "source": [
        "# Linear Support Vector Machine\n",
        "\n",
        "- It implements regularized linear modles with stochastic gradient descent (SGD) learning\n",
        "\n",
        "- This works witht data represented as dense or sparse arrays of floating point values for the features\n",
        "\n",
        "- By default it fits the linear support vector machine"
      ]
    },
    {
      "metadata": {
        "id": "NUL9VLBMjtTu",
        "colab_type": "code",
        "colab": {}
      },
      "cell_type": "code",
      "source": [
        "# importing from sklearn\n",
        "from sklearn.linear_model import SGDClassifier\n"
      ],
      "execution_count": 0,
      "outputs": []
    },
    {
      "metadata": {
        "id": "GeAwHmpClz-W",
        "colab_type": "code",
        "colab": {}
      },
      "cell_type": "code",
      "source": [
        "# Pipeline for SGDClassifier\n",
        "\n",
        "sgd_pipeline= Pipeline([('vect',CountVectorizer()),\\\n",
        "                         ('tfidf',TfidfTransformer()),\\\n",
        "                         ('clf',SGDClassifier(loss = 'hinge',penalty = 'l2',alpha=1e-3, random_state = 42,max_iter=5,tol =None)),\n",
        "                        ])"
      ],
      "execution_count": 0,
      "outputs": []
    },
    {
      "metadata": {
        "id": "nmYA_y2FmjCK",
        "colab_type": "code",
        "colab": {
          "base_uri": "https://localhost:8080/",
          "height": 188
        },
        "outputId": "29ae5563-6090-42ce-dfb9-981ce6bbbb22"
      },
      "cell_type": "code",
      "source": [
        "# Model training using SGDClassifier pipeline\n",
        "\n",
        "sgd_pipeline.fit(X_train,y_train)"
      ],
      "execution_count": 30,
      "outputs": [
        {
          "output_type": "stream",
          "text": [
            "/usr/local/lib/python3.6/dist-packages/sklearn/linear_model/stochastic_gradient.py:183: FutureWarning: max_iter and tol parameters have been added in SGDClassifier in 0.19. If max_iter is set but tol is left unset, the default value for tol in 0.19 and 0.20 will be None (which is equivalent to -infinity, so it has no effect) but will change in 0.21 to 1e-3. Specify tol to silence this warning.\n",
            "  FutureWarning)\n"
          ],
          "name": "stderr"
        },
        {
          "output_type": "execute_result",
          "data": {
            "text/plain": [
              "Pipeline(memory=None,\n",
              "     steps=[('vect', CountVectorizer(analyzer='word', binary=False, decode_error='strict',\n",
              "        dtype=<class 'numpy.int64'>, encoding='utf-8', input='content',\n",
              "        lowercase=True, max_df=1.0, max_features=None, min_df=1,\n",
              "        ngram_range=(1, 1), preprocessor=None, stop_words=None,\n",
              "        strip...dom_state=42, shuffle=True, tol=None,\n",
              "       validation_fraction=0.1, verbose=0, warm_start=False))])"
            ]
          },
          "metadata": {
            "tags": []
          },
          "execution_count": 30
        }
      ]
    },
    {
      "metadata": {
        "id": "AsmuyEWRm0bI",
        "colab_type": "code",
        "colab": {}
      },
      "cell_type": "code",
      "source": [
        "# Making prediction using SGD\n",
        "y_pred_sgd = sgd_pipeline.predict(X_test)"
      ],
      "execution_count": 0,
      "outputs": []
    },
    {
      "metadata": {
        "id": "fhAKxwqQn9c4",
        "colab_type": "code",
        "colab": {
          "base_uri": "https://localhost:8080/",
          "height": 34
        },
        "outputId": "07914d22-8bb2-4d4e-a88e-4aff07150ed1"
      },
      "cell_type": "code",
      "source": [
        "# Accuracy and classification report\n",
        "print('accuracy %s'% accuracy_score(y_pred_sgd,y_test))"
      ],
      "execution_count": 32,
      "outputs": [
        {
          "output_type": "stream",
          "text": [
            "accuracy 0.7873333333333333\n"
          ],
          "name": "stdout"
        }
      ]
    },
    {
      "metadata": {
        "id": "biUjo0VkoMA4",
        "colab_type": "code",
        "colab": {
          "base_uri": "https://localhost:8080/",
          "height": 487
        },
        "outputId": "2bd8a94c-4c9c-4412-b3b6-e31047e88f56"
      },
      "cell_type": "code",
      "source": [
        "# Classification Report\n",
        "print('Classification \\n',\n",
        "     classification_report(y_test,y_pred_sgd, target_names= tags_list))"
      ],
      "execution_count": 33,
      "outputs": [
        {
          "output_type": "stream",
          "text": [
            "Classification \n",
            "                precision    recall  f1-score   support\n",
            "\n",
            "           c#       0.72      0.68      0.70       613\n",
            "      asp.net       0.84      0.93      0.88       620\n",
            "  objective-c       0.88      0.95      0.92       587\n",
            "         .net       0.82      0.79      0.81       586\n",
            "       python       0.72      0.87      0.79       599\n",
            "    angularjs       0.79      0.41      0.54       589\n",
            "       iphone       0.79      0.66      0.72       594\n",
            "ruby-on-rails       0.69      0.95      0.80       610\n",
            "          ios       0.81      0.55      0.66       617\n",
            "            c       0.73      0.58      0.65       587\n",
            "          sql       0.70      0.66      0.68       611\n",
            "         java       0.83      0.86      0.85       594\n",
            "       jquery       0.77      0.78      0.77       619\n",
            "          css       0.84      0.86      0.85       574\n",
            "          c++       0.82      0.80      0.81       584\n",
            "          php       0.70      0.69      0.69       578\n",
            "      android       0.82      0.90      0.86       591\n",
            "        mysql       0.84      0.96      0.89       608\n",
            "   javascript       0.87      0.95      0.91       638\n",
            "         html       0.77      0.89      0.83       601\n",
            "\n",
            "    micro avg       0.79      0.79      0.79     12000\n",
            "    macro avg       0.79      0.79      0.78     12000\n",
            " weighted avg       0.79      0.79      0.78     12000\n",
            "\n"
          ],
          "name": "stdout"
        }
      ]
    },
    {
      "metadata": {
        "id": "J8tdEI5HhXlI",
        "colab_type": "text"
      },
      "cell_type": "markdown",
      "source": [
        "# Using Logistic Regression"
      ]
    },
    {
      "metadata": {
        "id": "FNLX4M0xhaGW",
        "colab_type": "code",
        "colab": {}
      },
      "cell_type": "code",
      "source": [
        "# Importing the module\n",
        "from sklearn.linear_model import LogisticRegression\n",
        "\n"
      ],
      "execution_count": 0,
      "outputs": []
    },
    {
      "metadata": {
        "id": "w_QWgUz3hk2s",
        "colab_type": "code",
        "colab": {
          "base_uri": "https://localhost:8080/",
          "height": 222
        },
        "outputId": "e96aada5-2025-4fc5-a949-ac716cf5f02d"
      },
      "cell_type": "code",
      "source": [
        "\n",
        "\n",
        "logreg = Pipeline([('vect', CountVectorizer()),\n",
        "\n",
        "                ('tfidf', TfidfTransformer()),\n",
        "\n",
        "                ('clf', LogisticRegression(n_jobs=1, C=1e5)),\n",
        "\n",
        "               ])\n",
        "\n",
        "logreg.fit(X_train, y_train)"
      ],
      "execution_count": 35,
      "outputs": [
        {
          "output_type": "stream",
          "text": [
            "/usr/local/lib/python3.6/dist-packages/sklearn/linear_model/logistic.py:433: FutureWarning: Default solver will be changed to 'lbfgs' in 0.22. Specify a solver to silence this warning.\n",
            "  FutureWarning)\n",
            "/usr/local/lib/python3.6/dist-packages/sklearn/linear_model/logistic.py:460: FutureWarning: Default multi_class will be changed to 'auto' in 0.22. Specify the multi_class option to silence this warning.\n",
            "  \"this warning.\", FutureWarning)\n"
          ],
          "name": "stderr"
        },
        {
          "output_type": "execute_result",
          "data": {
            "text/plain": [
              "Pipeline(memory=None,\n",
              "     steps=[('vect', CountVectorizer(analyzer='word', binary=False, decode_error='strict',\n",
              "        dtype=<class 'numpy.int64'>, encoding='utf-8', input='content',\n",
              "        lowercase=True, max_df=1.0, max_features=None, min_df=1,\n",
              "        ngram_range=(1, 1), preprocessor=None, stop_words=None,\n",
              "        strip...penalty='l2', random_state=None,\n",
              "          solver='warn', tol=0.0001, verbose=0, warm_start=False))])"
            ]
          },
          "metadata": {
            "tags": []
          },
          "execution_count": 35
        }
      ]
    },
    {
      "metadata": {
        "id": "bKj6saPJh6vC",
        "colab_type": "code",
        "colab": {
          "base_uri": "https://localhost:8080/",
          "height": 487
        },
        "outputId": "9ad4b09a-b334-42d8-eb4c-31caa873314a"
      },
      "cell_type": "code",
      "source": [
        "# Making prediction\n",
        "\n",
        "logreg_y_pred = logreg.predict(X_test)\n",
        "\n",
        "\n",
        "\n",
        "print('accuracy %s' % accuracy_score(logreg_y_pred, y_test))\n",
        "\n",
        "print(classification_report(y_test, logreg_y_pred,target_names=tags_list))"
      ],
      "execution_count": 37,
      "outputs": [
        {
          "output_type": "stream",
          "text": [
            "accuracy 0.7895\n",
            "               precision    recall  f1-score   support\n",
            "\n",
            "           c#       0.70      0.63      0.66       613\n",
            "      asp.net       0.92      0.90      0.91       620\n",
            "  objective-c       0.96      0.94      0.95       587\n",
            "         .net       0.79      0.77      0.78       586\n",
            "       python       0.77      0.83      0.80       599\n",
            "    angularjs       0.61      0.58      0.60       589\n",
            "       iphone       0.78      0.75      0.76       594\n",
            "ruby-on-rails       0.80      0.86      0.83       610\n",
            "          ios       0.71      0.71      0.71       617\n",
            "            c       0.63      0.62      0.62       587\n",
            "          sql       0.67      0.65      0.66       611\n",
            "         java       0.82      0.84      0.83       594\n",
            "       jquery       0.79      0.79      0.79       619\n",
            "          css       0.84      0.87      0.85       574\n",
            "          c++       0.82      0.84      0.83       584\n",
            "          php       0.65      0.65      0.65       578\n",
            "      android       0.84      0.85      0.85       591\n",
            "        mysql       0.91      0.91      0.91       608\n",
            "   javascript       0.97      0.94      0.95       638\n",
            "         html       0.78      0.85      0.82       601\n",
            "\n",
            "    micro avg       0.79      0.79      0.79     12000\n",
            "    macro avg       0.79      0.79      0.79     12000\n",
            " weighted avg       0.79      0.79      0.79     12000\n",
            "\n"
          ],
          "name": "stdout"
        }
      ]
    },
    {
      "metadata": {
        "id": "-N31XxSojjFa",
        "colab_type": "text"
      },
      "cell_type": "markdown",
      "source": [
        "# OneVsRest Approach - Logistic Regression"
      ]
    },
    {
      "metadata": {
        "id": "4fXGlE0xiO91",
        "colab_type": "code",
        "colab": {}
      },
      "cell_type": "code",
      "source": [
        "from sklearn.multiclass import OneVsRestClassifier"
      ],
      "execution_count": 0,
      "outputs": []
    },
    {
      "metadata": {
        "id": "GFUzJWwHibdK",
        "colab_type": "code",
        "colab": {}
      },
      "cell_type": "code",
      "source": [
        "one_vs_rest_lr_pipeline =Pipeline([('vect', CountVectorizer()),\n",
        "\n",
        "                ('tfidf', TfidfTransformer()),\n",
        "\n",
        "                ('clf', OneVsRestClassifier(LogisticRegression(penalty  = 'l2', C=1e5), n_jobs=1)),\n",
        "\n",
        "               ])\n",
        "\n"
      ],
      "execution_count": 0,
      "outputs": []
    },
    {
      "metadata": {
        "id": "nrj5efO0i--f",
        "colab_type": "code",
        "colab": {
          "base_uri": "https://localhost:8080/",
          "height": 205
        },
        "outputId": "43e58c65-d8eb-480d-f1b4-9a302c7283f7"
      },
      "cell_type": "code",
      "source": [
        "# Pipleine \n",
        "one_vs_rest_lr_pipeline.fit(X_train, y_train)"
      ],
      "execution_count": 40,
      "outputs": [
        {
          "output_type": "stream",
          "text": [
            "/usr/local/lib/python3.6/dist-packages/sklearn/linear_model/logistic.py:433: FutureWarning: Default solver will be changed to 'lbfgs' in 0.22. Specify a solver to silence this warning.\n",
            "  FutureWarning)\n"
          ],
          "name": "stderr"
        },
        {
          "output_type": "execute_result",
          "data": {
            "text/plain": [
              "Pipeline(memory=None,\n",
              "     steps=[('vect', CountVectorizer(analyzer='word', binary=False, decode_error='strict',\n",
              "        dtype=<class 'numpy.int64'>, encoding='utf-8', input='content',\n",
              "        lowercase=True, max_df=1.0, max_features=None, min_df=1,\n",
              "        ngram_range=(1, 1), preprocessor=None, stop_words=None,\n",
              "        strip...state=None,\n",
              "          solver='warn', tol=0.0001, verbose=0, warm_start=False),\n",
              "          n_jobs=1))])"
            ]
          },
          "metadata": {
            "tags": []
          },
          "execution_count": 40
        }
      ]
    },
    {
      "metadata": {
        "id": "mkvkzMT4jFdO",
        "colab_type": "code",
        "colab": {
          "base_uri": "https://localhost:8080/",
          "height": 504
        },
        "outputId": "894952d7-cf1b-4bcc-9492-409076ecd363"
      },
      "cell_type": "code",
      "source": [
        "# Making prediction\n",
        "\n",
        "one_vs_rest_lr_y_pred = one_vs_rest_lr_pipeline.predict(X_test)\n",
        "\n",
        "\n",
        "\n",
        "print('accuracy %s' % accuracy_score(one_vs_rest_lr_y_pred, y_test))\n",
        "print('Classification Report')\n",
        "print(classification_report(y_test, one_vs_rest_lr_y_pred,target_names=tags_list))"
      ],
      "execution_count": 41,
      "outputs": [
        {
          "output_type": "stream",
          "text": [
            "accuracy 0.789\n",
            "Classification Report\n",
            "               precision    recall  f1-score   support\n",
            "\n",
            "           c#       0.70      0.63      0.66       613\n",
            "      asp.net       0.92      0.90      0.91       620\n",
            "  objective-c       0.96      0.94      0.95       587\n",
            "         .net       0.79      0.77      0.78       586\n",
            "       python       0.77      0.83      0.80       599\n",
            "    angularjs       0.61      0.58      0.60       589\n",
            "       iphone       0.78      0.75      0.76       594\n",
            "ruby-on-rails       0.80      0.86      0.83       610\n",
            "          ios       0.70      0.71      0.71       617\n",
            "            c       0.63      0.62      0.62       587\n",
            "          sql       0.67      0.65      0.66       611\n",
            "         java       0.82      0.84      0.83       594\n",
            "       jquery       0.79      0.79      0.79       619\n",
            "          css       0.84      0.86      0.85       574\n",
            "          c++       0.82      0.84      0.83       584\n",
            "          php       0.65      0.65      0.65       578\n",
            "      android       0.84      0.85      0.85       591\n",
            "        mysql       0.91      0.91      0.91       608\n",
            "   javascript       0.97      0.94      0.95       638\n",
            "         html       0.78      0.85      0.81       601\n",
            "\n",
            "    micro avg       0.79      0.79      0.79     12000\n",
            "    macro avg       0.79      0.79      0.79     12000\n",
            " weighted avg       0.79      0.79      0.79     12000\n",
            "\n"
          ],
          "name": "stdout"
        }
      ]
    },
    {
      "metadata": {
        "id": "CowlgqlNjugA",
        "colab_type": "text"
      },
      "cell_type": "markdown",
      "source": [
        "# OneVsRest Approach with tunning - Logistic regression"
      ]
    },
    {
      "metadata": {
        "id": "HMQda76kjzmI",
        "colab_type": "code",
        "colab": {}
      },
      "cell_type": "code",
      "source": [
        "# Making the pipeline\n",
        "ovr_lr_tuned_pipeline =Pipeline([('vect', CountVectorizer()),\n",
        "\n",
        "                ('tfidf', TfidfTransformer()),\n",
        "\n",
        "                ('clf', OneVsRestClassifier(LogisticRegression(solver = 'sag', penalty  = 'l2', C=1e5), n_jobs=1)),\n",
        "\n",
        "               ])\n"
      ],
      "execution_count": 0,
      "outputs": []
    },
    {
      "metadata": {
        "id": "4sylsquIkQCU",
        "colab_type": "code",
        "colab": {
          "base_uri": "https://localhost:8080/",
          "height": 185
        },
        "outputId": "4b0babf0-3051-44f1-9ad1-ac5bb674b6ff"
      },
      "cell_type": "code",
      "source": [
        "# Fitting the pipeline\n",
        "ovr_lr_tuned_pipeline.fit(X_train, y_train)"
      ],
      "execution_count": 44,
      "outputs": [
        {
          "output_type": "stream",
          "text": [
            "/usr/local/lib/python3.6/dist-packages/sklearn/linear_model/sag.py:334: ConvergenceWarning: The max_iter was reached which means the coef_ did not converge\n",
            "  \"the coef_ did not converge\", ConvergenceWarning)\n"
          ],
          "name": "stderr"
        },
        {
          "output_type": "execute_result",
          "data": {
            "text/plain": [
              "Pipeline(memory=None,\n",
              "     steps=[('vect', CountVectorizer(analyzer='word', binary=False, decode_error='strict',\n",
              "        dtype=<class 'numpy.int64'>, encoding='utf-8', input='content',\n",
              "        lowercase=True, max_df=1.0, max_features=None, min_df=1,\n",
              "        ngram_range=(1, 1), preprocessor=None, stop_words=None,\n",
              "        strip..._state=None,\n",
              "          solver='sag', tol=0.0001, verbose=0, warm_start=False),\n",
              "          n_jobs=1))])"
            ]
          },
          "metadata": {
            "tags": []
          },
          "execution_count": 44
        }
      ]
    },
    {
      "metadata": {
        "id": "9xVeHFbLkZfr",
        "colab_type": "code",
        "colab": {
          "base_uri": "https://localhost:8080/",
          "height": 504
        },
        "outputId": "0efb1e59-8906-44da-ce84-0dd56925df99"
      },
      "cell_type": "code",
      "source": [
        "# Making prediction\n",
        "\n",
        "ovr_lr_tuned_pipeline_y_pred = ovr_lr_tuned_pipeline.predict(X_test)\n",
        "\n",
        "\n",
        "\n",
        "print('accuracy %s' % accuracy_score(ovr_lr_tuned_pipeline_y_pred, y_test))\n",
        "print('Classification Report')\n",
        "print(classification_report(y_test, ovr_lr_tuned_pipeline_y_pred,target_names=tags_list))"
      ],
      "execution_count": 45,
      "outputs": [
        {
          "output_type": "stream",
          "text": [
            "accuracy 0.7950833333333334\n",
            "Classification Report\n",
            "               precision    recall  f1-score   support\n",
            "\n",
            "           c#       0.71      0.63      0.67       613\n",
            "      asp.net       0.93      0.91      0.92       620\n",
            "  objective-c       0.96      0.94      0.95       587\n",
            "         .net       0.78      0.78      0.78       586\n",
            "       python       0.78      0.85      0.81       599\n",
            "    angularjs       0.61      0.60      0.60       589\n",
            "       iphone       0.78      0.75      0.76       594\n",
            "ruby-on-rails       0.81      0.87      0.84       610\n",
            "          ios       0.71      0.72      0.72       617\n",
            "            c       0.64      0.61      0.62       587\n",
            "          sql       0.67      0.66      0.67       611\n",
            "         java       0.84      0.84      0.84       594\n",
            "       jquery       0.79      0.80      0.80       619\n",
            "          css       0.84      0.87      0.85       574\n",
            "          c++       0.84      0.84      0.84       584\n",
            "          php       0.65      0.66      0.66       578\n",
            "      android       0.83      0.86      0.84       591\n",
            "        mysql       0.94      0.91      0.92       608\n",
            "   javascript       0.96      0.94      0.95       638\n",
            "         html       0.80      0.86      0.83       601\n",
            "\n",
            "    micro avg       0.80      0.80      0.80     12000\n",
            "    macro avg       0.79      0.79      0.79     12000\n",
            " weighted avg       0.79      0.80      0.79     12000\n",
            "\n"
          ],
          "name": "stdout"
        }
      ]
    },
    {
      "metadata": {
        "id": "9Jeyrzrzn6gZ",
        "colab_type": "text"
      },
      "cell_type": "markdown",
      "source": [
        "# One Vs Rest - Logistic Regression\n",
        "- Parameters \n",
        "  - solver : saga\n",
        "  - penalty : l1\n",
        "  - C : 1e5"
      ]
    },
    {
      "metadata": {
        "id": "dROAwpLUoJLO",
        "colab_type": "code",
        "colab": {}
      },
      "cell_type": "code",
      "source": [
        "# Making the pipeline\n",
        "ovr_lr_tuned_pipeline2 =Pipeline([('vect', CountVectorizer()),\n",
        "\n",
        "                ('tfidf', TfidfTransformer()),\n",
        "\n",
        "                ('clf', OneVsRestClassifier(LogisticRegression(solver = 'sag', penalty  = 'l2', C=1e10, warm_start = True), n_jobs=-1)),\n",
        "\n",
        "               ])\n"
      ],
      "execution_count": 0,
      "outputs": []
    },
    {
      "metadata": {
        "id": "QcOE5hFCojrY",
        "colab_type": "code",
        "colab": {
          "base_uri": "https://localhost:8080/",
          "height": 151
        },
        "outputId": "68c7503a-2f2d-4bcc-a82e-4f9af12e7c7e"
      },
      "cell_type": "code",
      "source": [
        "# Fitting the pipeline\n",
        "ovr_lr_tuned_pipeline2.fit(X_train, y_train)"
      ],
      "execution_count": 53,
      "outputs": [
        {
          "output_type": "execute_result",
          "data": {
            "text/plain": [
              "Pipeline(memory=None,\n",
              "     steps=[('vect', CountVectorizer(analyzer='word', binary=False, decode_error='strict',\n",
              "        dtype=<class 'numpy.int64'>, encoding='utf-8', input='content',\n",
              "        lowercase=True, max_df=1.0, max_features=None, min_df=1,\n",
              "        ngram_range=(1, 1), preprocessor=None, stop_words=None,\n",
              "        strip..._state=None,\n",
              "          solver='sag', tol=0.0001, verbose=0, warm_start=True),\n",
              "          n_jobs=-1))])"
            ]
          },
          "metadata": {
            "tags": []
          },
          "execution_count": 53
        }
      ]
    },
    {
      "metadata": {
        "id": "WFA5dSAtoo4A",
        "colab_type": "code",
        "colab": {
          "base_uri": "https://localhost:8080/",
          "height": 504
        },
        "outputId": "e63d16c5-8945-4689-bc5c-2715b7087147"
      },
      "cell_type": "code",
      "source": [
        "# Making prediction\n",
        "\n",
        "ovr_lr_tuned_pipeline2_y_pred = ovr_lr_tuned_pipeline2.predict(X_test)\n",
        "\n",
        "\n",
        "\n",
        "print('accuracy %s' % accuracy_score(ovr_lr_tuned_pipeline2_y_pred, y_test))\n",
        "print('Classification Report')\n",
        "print(classification_report(y_test, ovr_lr_tuned_pipeline2_y_pred,target_names=tags_list))"
      ],
      "execution_count": 54,
      "outputs": [
        {
          "output_type": "stream",
          "text": [
            "accuracy 0.7948333333333333\n",
            "Classification Report\n",
            "               precision    recall  f1-score   support\n",
            "\n",
            "           c#       0.70      0.64      0.67       613\n",
            "      asp.net       0.91      0.91      0.91       620\n",
            "  objective-c       0.97      0.94      0.96       587\n",
            "         .net       0.79      0.79      0.79       586\n",
            "       python       0.78      0.84      0.81       599\n",
            "    angularjs       0.62      0.59      0.60       589\n",
            "       iphone       0.77      0.75      0.76       594\n",
            "ruby-on-rails       0.81      0.87      0.84       610\n",
            "          ios       0.72      0.72      0.72       617\n",
            "            c       0.63      0.61      0.62       587\n",
            "          sql       0.67      0.66      0.66       611\n",
            "         java       0.84      0.83      0.84       594\n",
            "       jquery       0.79      0.80      0.80       619\n",
            "          css       0.85      0.87      0.86       574\n",
            "          c++       0.84      0.84      0.84       584\n",
            "          php       0.65      0.65      0.65       578\n",
            "      android       0.84      0.86      0.85       591\n",
            "        mysql       0.93      0.91      0.92       608\n",
            "   javascript       0.96      0.94      0.95       638\n",
            "         html       0.81      0.87      0.84       601\n",
            "\n",
            "    micro avg       0.79      0.79      0.79     12000\n",
            "    macro avg       0.79      0.79      0.79     12000\n",
            " weighted avg       0.79      0.79      0.79     12000\n",
            "\n"
          ],
          "name": "stdout"
        }
      ]
    }
  ]
}